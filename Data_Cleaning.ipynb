{
 "cells": [
  {
   "cell_type": "markdown",
   "id": "0ce415d9-ae7c-4637-8e17-cb56e7acce33",
   "metadata": {},
   "source": [
    "### Import Libraries"
   ]
  },
  {
   "cell_type": "code",
   "execution_count": 1,
   "id": "a72e4c34-8320-4bce-b338-4f53985b727c",
   "metadata": {},
   "outputs": [],
   "source": [
    "import re\n",
    "import numpy as np\n",
    "import pandas as pd\n",
    "import datetime as dt"
   ]
  },
  {
   "cell_type": "markdown",
   "id": "27f898ec-8f94-47ea-b369-7ad32bebf00e",
   "metadata": {},
   "source": [
    "### Read Data"
   ]
  },
  {
   "cell_type": "code",
   "execution_count": 2,
   "id": "c2014482-675e-4f2b-b20c-d965b6fd076f",
   "metadata": {},
   "outputs": [
    {
     "data": {
      "text/html": [
       "<div>\n",
       "<style scoped>\n",
       "    .dataframe tbody tr th:only-of-type {\n",
       "        vertical-align: middle;\n",
       "    }\n",
       "\n",
       "    .dataframe tbody tr th {\n",
       "        vertical-align: top;\n",
       "    }\n",
       "\n",
       "    .dataframe thead th {\n",
       "        text-align: right;\n",
       "    }\n",
       "</style>\n",
       "<table border=\"1\" class=\"dataframe\">\n",
       "  <thead>\n",
       "    <tr style=\"text-align: right;\">\n",
       "      <th></th>\n",
       "      <th>address</th>\n",
       "      <th>address_2</th>\n",
       "      <th>nearest_mrt</th>\n",
       "      <th>time_to_nearest_mrt</th>\n",
       "      <th>price</th>\n",
       "      <th>unit_type</th>\n",
       "      <th>room_type</th>\n",
       "      <th>room_size</th>\n",
       "      <th>room_size_2</th>\n",
       "      <th>status</th>\n",
       "      <th>updated_time</th>\n",
       "      <th>link</th>\n",
       "    </tr>\n",
       "  </thead>\n",
       "  <tbody>\n",
       "    <tr>\n",
       "      <th>0</th>\n",
       "      <td>Common Room in 111 Pasir Ris Street 11</td>\n",
       "      <td>NaN</td>\n",
       "      <td>NaN</td>\n",
       "      <td>NaN</td>\n",
       "      <td>$1,000/mo</td>\n",
       "      <td>HDB</td>\n",
       "      <td>Common room</td>\n",
       "      <td>150 sqft / 13.94 sqm</td>\n",
       "      <td>NaN</td>\n",
       "      <td>FULLY FURNISHED</td>\n",
       "      <td>Updated 2 hrs ago</td>\n",
       "      <td>/singapore/rooms/property/111-pasir-ris-street...</td>\n",
       "    </tr>\n",
       "    <tr>\n",
       "      <th>1</th>\n",
       "      <td>Common Room in Sun Plaza</td>\n",
       "      <td>30 Sembawang Dr · Condo</td>\n",
       "      <td>Sembawang</td>\n",
       "      <td>1 mins</td>\n",
       "      <td>$1,400/mo</td>\n",
       "      <td>NaN</td>\n",
       "      <td>Common room</td>\n",
       "      <td>150 sqft / 13.94 sqm</td>\n",
       "      <td>NaN</td>\n",
       "      <td>FULLY FURNISHED</td>\n",
       "      <td>Updated 4 hrs ago</td>\n",
       "      <td>/singapore/rooms/property/sun-plaza-condo-U6bm...</td>\n",
       "    </tr>\n",
       "    <tr>\n",
       "      <th>2</th>\n",
       "      <td>Common Room in East Mews</td>\n",
       "      <td>853 Mountbatten Rd · Condo</td>\n",
       "      <td>NaN</td>\n",
       "      <td>NaN</td>\n",
       "      <td>$1,300/mo</td>\n",
       "      <td>NaN</td>\n",
       "      <td>Common room</td>\n",
       "      <td>100 sqft / 9.29 sqm</td>\n",
       "      <td>NaN</td>\n",
       "      <td>FULLY FURNISHED</td>\n",
       "      <td>Updated 5 hrs ago</td>\n",
       "      <td>/singapore/rooms/property/east-mews-condo-9VAr...</td>\n",
       "    </tr>\n",
       "    <tr>\n",
       "      <th>3</th>\n",
       "      <td>Room in Lotus at Paya Lebar (East Wing)</td>\n",
       "      <td>11 Paya Lebar Rd · Condo</td>\n",
       "      <td>Paya Lebar</td>\n",
       "      <td>4 mins</td>\n",
       "      <td>$3,480/mo</td>\n",
       "      <td>NaN</td>\n",
       "      <td>1 Bath</td>\n",
       "      <td>660 sqft / 61.32 sqm</td>\n",
       "      <td>NaN</td>\n",
       "      <td>NaN</td>\n",
       "      <td>Updated 5 hrs ago</td>\n",
       "      <td>/singapore/rooms/property/lotus-at-paya-lebar-...</td>\n",
       "    </tr>\n",
       "    <tr>\n",
       "      <th>4</th>\n",
       "      <td>Room in Eunos Crescent View</td>\n",
       "      <td>NaN</td>\n",
       "      <td>Eunos</td>\n",
       "      <td>7 mins</td>\n",
       "      <td>$2,600/mo</td>\n",
       "      <td>Conservation House</td>\n",
       "      <td>400 sqft / 37.16 sqm</td>\n",
       "      <td>NaN</td>\n",
       "      <td>NaN</td>\n",
       "      <td>FULLY FURNISHED</td>\n",
       "      <td>Updated 5 hrs ago</td>\n",
       "      <td>/singapore/rooms/property/property-in-singapor...</td>\n",
       "    </tr>\n",
       "  </tbody>\n",
       "</table>\n",
       "</div>"
      ],
      "text/plain": [
       "                                   address                   address_2  \\\n",
       "0   Common Room in 111 Pasir Ris Street 11                         NaN   \n",
       "1                 Common Room in Sun Plaza     30 Sembawang Dr · Condo   \n",
       "2                 Common Room in East Mews  853 Mountbatten Rd · Condo   \n",
       "3  Room in Lotus at Paya Lebar (East Wing)    11 Paya Lebar Rd · Condo   \n",
       "4              Room in Eunos Crescent View                         NaN   \n",
       "\n",
       "  nearest_mrt time_to_nearest_mrt      price           unit_type  \\\n",
       "0         NaN                 NaN  $1,000/mo                 HDB   \n",
       "1   Sembawang              1 mins  $1,400/mo                 NaN   \n",
       "2         NaN                 NaN  $1,300/mo                 NaN   \n",
       "3  Paya Lebar              4 mins  $3,480/mo                 NaN   \n",
       "4       Eunos              7 mins  $2,600/mo  Conservation House   \n",
       "\n",
       "              room_type             room_size room_size_2           status  \\\n",
       "0           Common room  150 sqft / 13.94 sqm         NaN  FULLY FURNISHED   \n",
       "1           Common room  150 sqft / 13.94 sqm         NaN  FULLY FURNISHED   \n",
       "2           Common room   100 sqft / 9.29 sqm         NaN  FULLY FURNISHED   \n",
       "3                1 Bath  660 sqft / 61.32 sqm         NaN              NaN   \n",
       "4  400 sqft / 37.16 sqm                   NaN         NaN  FULLY FURNISHED   \n",
       "\n",
       "        updated_time                                               link  \n",
       "0  Updated 2 hrs ago  /singapore/rooms/property/111-pasir-ris-street...  \n",
       "1  Updated 4 hrs ago  /singapore/rooms/property/sun-plaza-condo-U6bm...  \n",
       "2  Updated 5 hrs ago  /singapore/rooms/property/east-mews-condo-9VAr...  \n",
       "3  Updated 5 hrs ago  /singapore/rooms/property/lotus-at-paya-lebar-...  \n",
       "4  Updated 5 hrs ago  /singapore/rooms/property/property-in-singapor...  "
      ]
     },
     "execution_count": 2,
     "metadata": {},
     "output_type": "execute_result"
    }
   ],
   "source": [
    "# Read raw data\n",
    "df = pd.read_csv(\"property_listings.csv\")\n",
    "\n",
    "# Replace all unknown with NaN\n",
    "df = df.replace('unknown',np.nan)\n",
    "\n",
    "df.head(5)"
   ]
  },
  {
   "cell_type": "markdown",
   "id": "5fc899ab-994b-48ed-98bf-0a0d7910862f",
   "metadata": {},
   "source": [
    "### Cleaning Address Column"
   ]
  },
  {
   "cell_type": "code",
   "execution_count": 3,
   "id": "f57915bf-2a09-49c4-84c7-c9fbfe7ffaff",
   "metadata": {},
   "outputs": [],
   "source": [
    "# Remove room type in front of address\n",
    "df['address'] = df['address'].str.replace('Common Room in|Master Room in|Room in', '', regex=True)\n",
    "\n",
    "# Assign 'Condo' to the \"unit_type\" column where \"address_2\" contains '.Condo'\n",
    "df.loc[df['address_2'].str.contains('· Condo', case=False, na=False), 'unit_type'] = 'Condo'\n",
    "\n",
    "# Remove '.Condo' from the \"address_2\" column\n",
    "df['address_2'] = df['address_2'].str.replace('· Condo', '', regex=False)\n",
    "\n",
    "# Combine condo info from 'address_2' and 'address' columns\n",
    "df['address'] = df.apply(lambda row: row['address_2'] + ', ' + row['address'] if isinstance(row['address_2'], str) else row['address'], axis=1)\n",
    "\n",
    "# Remove everything after the comma, but only if there's something in front of the comma\n",
    "df['address'] = df['address'].apply(lambda x: x.replace('  ,  ', '') if x.startswith('  ,') else x)\n",
    "df['address'] = df['address'].str.replace(r' ,.*', '', regex=True)\n",
    "\n",
    "# Remove any leading and trailing spaces\n",
    "df['address'] = df['address'].str.strip()\n",
    "\n",
    "# Drop address_2 column\n",
    "df = df.drop('address_2', axis=1)"
   ]
  },
  {
   "cell_type": "markdown",
   "id": "e2432cac-2771-41f6-ae39-1cd77af9cae9",
   "metadata": {},
   "source": [
    "### Cleaning Price Column"
   ]
  },
  {
   "cell_type": "code",
   "execution_count": 4,
   "id": "cd924ec0-3dbf-40e2-9106-2a41a500990f",
   "metadata": {},
   "outputs": [],
   "source": [
    "# Remove the '$' and ',' characters\n",
    "df['price'] = df['price'].str.replace('[\\$,]', '', regex=True)\n",
    "\n",
    "# Remove the \"/mo\" part\n",
    "df['price'] = df['price'].str.replace('/mo', '', regex=True)\n",
    "\n",
    "# Convert to float\n",
    "df['price'] = df['price'].astype(float)\n",
    "\n",
    "# Filter out extreme value\n",
    "df = df[df['price'] <= 50000]"
   ]
  },
  {
   "cell_type": "markdown",
   "id": "196a5857-b18b-4c51-b627-0f66c002cbbb",
   "metadata": {},
   "source": [
    "### Cleaning Unit Type Column"
   ]
  },
  {
   "cell_type": "code",
   "execution_count": 5,
   "id": "544ff3cc-ade9-4e96-a476-b4af6928f30c",
   "metadata": {},
   "outputs": [],
   "source": [
    "# Define a dictionary to map other HDB types to 'HDB'\n",
    "hdb_mapping = {\n",
    "    'HDB (EM)': 'HDB',\n",
    "    'HDB (3I)': 'HDB',\n",
    "    'HDB (EA)': 'HDB',\n",
    "    'HDB (3A)': 'HDB',\n",
    "    'HDB (4A)': 'HDB',\n",
    "    'HDB (5I)': 'HDB',\n",
    "    'HDB (3NG)': 'HDB',\n",
    "    'HDB (5A)': 'HDB',\n",
    "    'HDB (3STD)': 'HDB',\n",
    "    'HDB (4NG)': 'HDB',\n",
    "    'HDB (4I)': 'HDB',\n",
    "    'HDB (4S)': 'HDB',\n",
    "    'HDB (5RM)': 'HDB',\n",
    "    'HDB (3S)': 'HDB',\n",
    "    'HDB (1RM)': 'HDB',\n",
    "    'HDB (4STD)': 'HDB',\n",
    "    'HDB (3RM)': 'HDB',\n",
    "    'HDB (4RM)': 'HDB',\n",
    "    'HDB (5STD)': 'HDB',\n",
    "    'HDB (2A)': 'HDB',\n",
    "    'HDB (Multi-gen)': 'HDB',\n",
    "    'HDB (2STD)': 'HDB'\n",
    "}\n",
    "\n",
    "# Use the replace method to map other HDB types to 'HDB'\n",
    "df['unit_type'] = df['unit_type'].replace(hdb_mapping)\n",
    "\n",
    "# Fill the missing values with Unknown as the data is still valuable for analysis of other fields\n",
    "df['unit_type'].fillna('Unknown', inplace=True)"
   ]
  },
  {
   "cell_type": "markdown",
   "id": "782bb284-6270-406c-aea9-a4d38919473e",
   "metadata": {},
   "source": [
    "### Cleaning Room Size Column"
   ]
  },
  {
   "cell_type": "code",
   "execution_count": 6,
   "id": "7740493d-2323-48a9-9a0d-e291b390fd59",
   "metadata": {},
   "outputs": [],
   "source": [
    "# Apply the function to gather all the room size data that spread across 3 columns\n",
    "def extract_room_size(row):\n",
    "    if isinstance(row['room_size'], str) and 'sqft' in row['room_size']:\n",
    "        return row['room_size']\n",
    "    elif isinstance(row['room_size_2'], str) and 'sqft' in row['room_size_2']:\n",
    "        return row['room_size_2']\n",
    "    elif isinstance(row['room_type'], str) and 'sqft' in row['room_type']:\n",
    "        return row['room_type']\n",
    "    else:\n",
    "        return np.nan\n",
    "\n",
    "df['room_size'] = df.apply(extract_room_size, axis=1)\n",
    "\n",
    "# Drop the other unused column\n",
    "df = df.drop('room_size_2', axis=1)\n",
    "\n",
    "# Remove unnecessary symbol and change the unit of room size to float\n",
    "df['room_size'] = df['room_size'].str.split(' / ').str[0].str.replace(',', '').str.replace(' sqft', '').astype(float)\n",
    "\n",
    "# Filter out extreme value\n",
    "df = df[df['room_size'] <= 50000]\n",
    "\n",
    "# Replace room sizes smaller than 50 with 50\n",
    "df['room_size'] = df['room_size'].apply(lambda x: 50 if x < 50 else x)"
   ]
  },
  {
   "cell_type": "markdown",
   "id": "ecb11e75-23ca-4392-bbe9-65007d6c052a",
   "metadata": {},
   "source": [
    "''' \n",
    "Problem Encountered:\n",
    "The room size data extracted from the website is not entirely accurate. \n",
    "Some room sizes are recorded as 0, while others do not align with the associated prices. \n",
    "For instance, you may pay 3k just to rent a 150 sqft room.\n",
    "'''"
   ]
  },
  {
   "cell_type": "markdown",
   "id": "e49e7360-24b3-4089-8c87-a122c891f636",
   "metadata": {},
   "source": [
    "### Cleaning Room Type Column"
   ]
  },
  {
   "cell_type": "code",
   "execution_count": 7,
   "id": "b79368f5-a043-4b2e-bb04-8477486ae93e",
   "metadata": {},
   "outputs": [],
   "source": [
    "# Function to remove the keyword from the room_type column\n",
    "def extract_room_type(room_type_str):\n",
    "    keywords = [' sqft', ' Bath']  # Keywords to split on\n",
    "    for keyword in keywords:\n",
    "        room_type_str = room_type_str.split(keyword, 1)[0]\n",
    "    return room_type_str.strip()\n",
    "\n",
    "# Apply the function to the 'room_type' column\n",
    "df['room_type'] = df['room_type'].apply(extract_room_type)\n",
    "\n",
    "# Remove the numeric value and change it to NaN\n",
    "df['room_type'] = df['room_type'].str.replace(r'\\d', '', regex=True)\n",
    "df['room_type'] = df['room_type'].replace(['',','], np.nan, regex=True)\n",
    "\n",
    "# Define a function to impute missing room_type based on unit_type and room_size\n",
    "def impute_room_type(row):\n",
    "    if pd.isna(row['room_type']):\n",
    "        unit_type = row['unit_type']\n",
    "        room_size = row['room_size']\n",
    "\n",
    "        # Create a dictionary that maps unit_type to room type categorization criteria\n",
    "        unit_type_criteria = {\n",
    "            'HDB': {'Common room': 150, 'Master room': 450, 'Whole unit': float('inf')},\n",
    "            'Condo': {'Common room': 150, 'Master room': 350, 'Studio': 750, 'Whole unit': float('inf')},\n",
    "            'Terraced House': {'Common room': 150, 'Master room': 350, 'Whole unit': float('inf')},\n",
    "            'Corner Terrace': {'Common room': 150, 'Master room': 350, 'Whole unit': float('inf')},\n",
    "            'Shophouse': {'Common room': 150, 'Master room': 350, 'Whole unit': float('inf')},\n",
    "            'Semi-D': {'Common room': 150, 'Master room': 350, 'Whole unit': float('inf')},\n",
    "            'Bungalow': {'Common room': 150, 'Master room': 350, 'Whole unit': float('inf')},\n",
    "            'Cluster House': {'Common room': 150, 'Master room': 350, 'Whole unit': float('inf')},\n",
    "            'Conservation House': {'Common room': 150, 'Master room': 350, 'Whole unit': float('inf')},\n",
    "            'Land Only': {'Common room': 150, 'Master room': 350, 'Whole unit': float('inf')},\n",
    "            'Townhouse': {'Common room': 150, 'Master room': 350, 'Whole unit': float('inf')},\n",
    "            'Unknown': {'Unknown': float('inf')}\n",
    "        }\n",
    "\n",
    "        # Determine the room type based on the unit_type and room_size\n",
    "        for room_type, criteria in unit_type_criteria[unit_type].items():\n",
    "            if room_size <= criteria:\n",
    "                return room_type\n",
    "\n",
    "    return row['room_type']\n",
    "\n",
    "# Apply the imputation function to fill missing room_type values\n",
    "df['room_type'] = df.apply(impute_room_type, axis=1)\n",
    "\n",
    "# Set room type for rows where both room size and price exceed thresholds\n",
    "df.loc[(df['room_size'] > 1000) & (df['price'] > 3000), 'room_type'] = 'Whole unit'"
   ]
  },
  {
   "cell_type": "markdown",
   "id": "52b9fe02-8398-471a-a505-1b5304a8bd65",
   "metadata": {},
   "source": [
    "### Cleaning Status Column"
   ]
  },
  {
   "cell_type": "code",
   "execution_count": 8,
   "id": "c219f443-d862-48f6-ade4-0052d173e1cb",
   "metadata": {},
   "outputs": [],
   "source": [
    "# Remove unnecessary elements\n",
    "df['status'] = df['status'].replace(['DIVERSITY FRIENDLY', 'REMOTE VIEWING'], np.nan)\n",
    "\n",
    "# Impute missing values in the \"status\" column with the mode\n",
    "mode_status = df['status'].mode()[0]\n",
    "df['status'].fillna(mode_status, inplace=True)"
   ]
  },
  {
   "cell_type": "markdown",
   "id": "a2ebca8e-4035-4ce9-8f8c-a5098e25511d",
   "metadata": {},
   "source": [
    "### Cleaning Updated Time Column"
   ]
  },
  {
   "cell_type": "code",
   "execution_count": 9,
   "id": "d59acfc7-d019-47b0-95a9-4811e0a5955c",
   "metadata": {
    "tags": []
   },
   "outputs": [],
   "source": [
    "# Apply the parsing function to the \"updated_time\" column to obtain the date time\n",
    "def parse_updated_time(updated_time_str):\n",
    "    minutes = 0\n",
    "    hours = 0\n",
    "    days = 0\n",
    "    \n",
    "    # Extract numerical values from the string\n",
    "    values = re.findall(r'\\d+', updated_time_str)\n",
    "    \n",
    "    if 'min' in updated_time_str:\n",
    "        minutes = int(values[0])\n",
    "    elif 'hour' in updated_time_str:\n",
    "        hours = int(values[0])\n",
    "    elif 'day' in updated_time_str:\n",
    "        days = int(values[0])\n",
    "    \n",
    "    return dt.datetime.now() - dt.timedelta(days=days, hours=hours, minutes=minutes)\n",
    "\n",
    "df['updated_time'] = df['updated_time'].apply(parse_updated_time)\n",
    "\n",
    "# Extract date from the datetime\n",
    "df['updated_date'] = df['updated_time'].dt.date\n",
    "\n",
    "# Change the date format\n",
    "df['updated_date'] = pd.to_datetime(df['updated_date'], format='%Y-%m-%d')\n",
    "df['updated_date'] = df['updated_date'].astype(str)\n"
   ]
  },
  {
   "cell_type": "markdown",
   "id": "b24983a4-6f65-43e6-9110-9fe99291248a",
   "metadata": {},
   "source": [
    "### Cleaning Link Column"
   ]
  },
  {
   "cell_type": "code",
   "execution_count": 10,
   "id": "cd4294e7-3337-4423-84d8-f6357fc7b840",
   "metadata": {},
   "outputs": [],
   "source": [
    "# Add \"https://99.co\" to the 'link' column\n",
    "df['link'] = 'https://99.co' + df['link']"
   ]
  },
  {
   "cell_type": "code",
   "execution_count": 11,
   "id": "4369c06e-6469-406a-9e78-923e30d6531d",
   "metadata": {},
   "outputs": [],
   "source": [
    "df.to_csv('Rental_data.csv', index=False)"
   ]
  }
 ],
 "metadata": {
  "kernelspec": {
   "display_name": "Python 3 (ipykernel)",
   "language": "python",
   "name": "python3"
  },
  "language_info": {
   "codemirror_mode": {
    "name": "ipython",
    "version": 3
   },
   "file_extension": ".py",
   "mimetype": "text/x-python",
   "name": "python",
   "nbconvert_exporter": "python",
   "pygments_lexer": "ipython3",
   "version": "3.9.18"
  }
 },
 "nbformat": 4,
 "nbformat_minor": 5
}
